{
 "cells": [
  {
   "cell_type": "markdown",
   "id": "42262fac",
   "metadata": {},
   "source": [
    "# (A)Car_views_image_dataset"
   ]
  },
  {
   "cell_type": "markdown",
   "id": "a48f43c5",
   "metadata": {},
   "source": [
    "# 1.Import Libraries"
   ]
  },
  {
   "cell_type": "code",
   "execution_count": 8,
   "id": "9a3c57f4",
   "metadata": {},
   "outputs": [],
   "source": [
    "import tensorflow as tf\n",
    "import os\n",
    "import numpy as np\n",
    "from tensorflow.keras.layers import Input,Flatten,Dense\n",
    "from tensorflow.keras.models import Model\n",
    "from tensorflow.keras.applications.vgg16 import VGG16\n",
    "from tensorflow.keras.models import Sequential\n",
    "import matplotlib.pyplot as plt\n",
    "import gradio as gd\n",
    "from tensorflow.keras.utils import array_to_img\n",
    "from tensorflow.keras.utils import load_img\n",
    "from tensorflow.keras.utils import img_to_array\n",
    "from tensorflow import keras"
   ]
  },
  {
   "cell_type": "markdown",
   "id": "faa311b4",
   "metadata": {},
   "source": [
    "# 2.Image data generator - data preprocessing\n"
   ]
  },
  {
   "cell_type": "code",
   "execution_count": null,
   "id": "37832e47",
   "metadata": {},
   "outputs": [],
   "source": [
    "IMAGE_SIZE=224\n",
    "BATCH_SIZE=64\n",
    "\n",
    "train_datagen=tf.keras.preprocessing.image.ImageDataGenerator(\n",
    "    rescale=1./255,\n",
    "    zoom_range=0.2,\n",
    "    horizontal_flip=True,\n",
    "    validation_split=0.1)\n",
    "\n",
    "validation_datagen=tf.keras.preprocessing.image.ImageDataGenerator(\n",
    "    rescale=1./255,\n",
    "    validation_split=0.1\n",
    ")"
   ]
  },
  {
   "cell_type": "code",
   "execution_count": null,
   "id": "6e745eb4",
   "metadata": {},
   "outputs": [],
   "source": [
    "train=\"training\"\n",
    "train_genarator=train_datagen.flow_from_directory(\n",
    "    train,\n",
    "    target_size=(IMAGE_SIZE,IMAGE_SIZE),\n",
    "    batch_size=BATCH_SIZE\n",
    "    \n",
    "\n",
    ") \n",
    "test=\"validation\"\n",
    "validation_generator=validation_datagen.flow_from_directory(\n",
    "    test,\n",
    "    target_size=(IMAGE_SIZE,IMAGE_SIZE),\n",
    "    batch_size=BATCH_SIZE\n",
    "    \n",
    "\n",
    ") \n",
    "    \n"
   ]
  },
  {
   "cell_type": "code",
   "execution_count": null,
   "id": "db4064f7",
   "metadata": {},
   "outputs": [],
   "source": [
    "print(\"Integer values of classes:\")\n",
    "train_genarator.class_indices"
   ]
  },
  {
   "cell_type": "markdown",
   "id": "45220ba5",
   "metadata": {},
   "source": [
    "# 3.VGG16 model"
   ]
  },
  {
   "cell_type": "code",
   "execution_count": null,
   "id": "ac5910db",
   "metadata": {},
   "outputs": [],
   "source": [
    "IMAGE_SIZE=[224,224]\n",
    "vgg=VGG16(input_shape=IMAGE_SIZE+[3],weights='imagenet',include_top=False)\n",
    "vgg.output\n"
   ]
  },
  {
   "cell_type": "code",
   "execution_count": null,
   "id": "19a3b100",
   "metadata": {},
   "outputs": [],
   "source": [
    "for layer in vgg.layers:\n",
    "    layer.trainable=False\n",
    "    "
   ]
  },
  {
   "cell_type": "code",
   "execution_count": null,
   "id": "10d67f49",
   "metadata": {},
   "outputs": [],
   "source": [
    "x=Flatten()(vgg.output)\n",
    "prediction=Dense(3,activation='softmax')(x)\n",
    "model=Model(inputs=vgg.input,outputs=prediction)\n",
    "model.summary()"
   ]
  },
  {
   "cell_type": "markdown",
   "id": "5053540b",
   "metadata": {},
   "source": [
    "# 4.Train the model"
   ]
  },
  {
   "cell_type": "code",
   "execution_count": null,
   "id": "0a412e0c",
   "metadata": {},
   "outputs": [],
   "source": [
    "model.compile(loss='categorical_crossentropy', optimizer='adam', metrics=['accuracy'])\n"
   ]
  },
  {
   "cell_type": "code",
   "execution_count": null,
   "id": "e77a690b",
   "metadata": {},
   "outputs": [],
   "source": [
    "model.save(\"train1.h5\")\n",
    "fn11='log3.csv'\n",
    "history_logger=tf.keras.callbacks.CSVLogger(fn11,separator=\",\",append=True)"
   ]
  },
  {
   "cell_type": "code",
   "execution_count": 91,
   "id": "c6668afe",
   "metadata": {},
   "outputs": [
    {
     "name": "stdout",
     "output_type": "stream",
     "text": [
      "Epoch 1/10\n",
      "15/15 [==============================] - 207s 14s/step - loss: 1.2044 - accuracy: 0.4719 - val_loss: 1.0337 - val_accuracy: 0.5439\n",
      "Epoch 2/10\n",
      "15/15 [==============================] - 209s 14s/step - loss: 0.7366 - accuracy: 0.6917 - val_loss: 0.8314 - val_accuracy: 0.6140\n",
      "Epoch 3/10\n",
      "15/15 [==============================] - 213s 14s/step - loss: 0.5640 - accuracy: 0.7698 - val_loss: 0.7691 - val_accuracy: 0.6784\n",
      "Epoch 4/10\n",
      "15/15 [==============================] - 215s 14s/step - loss: 0.5311 - accuracy: 0.8000 - val_loss: 0.7791 - val_accuracy: 0.6959\n",
      "Epoch 5/10\n",
      "15/15 [==============================] - 219s 15s/step - loss: 0.4321 - accuracy: 0.8458 - val_loss: 0.7512 - val_accuracy: 0.6901\n",
      "Epoch 6/10\n",
      "15/15 [==============================] - 223s 15s/step - loss: 0.4082 - accuracy: 0.8490 - val_loss: 0.7859 - val_accuracy: 0.6901\n",
      "Epoch 7/10\n",
      "15/15 [==============================] - 224s 15s/step - loss: 0.3584 - accuracy: 0.8813 - val_loss: 0.7372 - val_accuracy: 0.6901\n",
      "Epoch 8/10\n",
      "15/15 [==============================] - 235s 16s/step - loss: 0.3434 - accuracy: 0.8958 - val_loss: 0.7786 - val_accuracy: 0.6842\n",
      "Epoch 9/10\n",
      "15/15 [==============================] - 230s 15s/step - loss: 0.3339 - accuracy: 0.8865 - val_loss: 0.7491 - val_accuracy: 0.6901\n",
      "Epoch 10/10\n",
      "15/15 [==============================] - 234s 16s/step - loss: 0.2700 - accuracy: 0.9344 - val_loss: 0.7437 - val_accuracy: 0.6959\n"
     ]
    }
   ],
   "source": [
    "epoch=10\n",
    "\n",
    "history=model.fit(train_genarator,\n",
    "                  steps_per_epoch=len(train_genarator),\n",
    "                  epochs=epoch,\n",
    "                  callbacks=[history_logger],\n",
    "                  validation_data=validation_generator,\n",
    "                  validation_steps=len(validation_generator)\n",
    "                 )"
   ]
  }
 ],
 "metadata": {
  "kernelspec": {
   "display_name": "Python 3 (ipykernel)",
   "language": "python",
   "name": "python3"
  },
  "language_info": {
   "codemirror_mode": {
    "name": "ipython",
    "version": 3
   },
   "file_extension": ".py",
   "mimetype": "text/x-python",
   "name": "python",
   "nbconvert_exporter": "python",
   "pygments_lexer": "ipython3",
   "version": "3.9.0"
  }
 },
 "nbformat": 4,
 "nbformat_minor": 5
}
