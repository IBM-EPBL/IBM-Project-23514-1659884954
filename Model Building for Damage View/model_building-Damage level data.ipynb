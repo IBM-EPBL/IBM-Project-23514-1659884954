{
 "cells": [
  {
   "cell_type": "markdown",
   "id": "e4d50790",
   "metadata": {},
   "source": [
    "# (B)Damage_level_Image_dataset\n"
   ]
  },
  {
   "cell_type": "markdown",
   "id": "a1a51e73",
   "metadata": {},
   "source": [
    "# 1.Preprocessing"
   ]
  },
  {
   "cell_type": "code",
   "execution_count": 2,
   "id": "2a3adcee",
   "metadata": {},
   "outputs": [],
   "source": [
    "IMAGE_SIZE_damage=224\n",
    "BATCH_SIZE_damage=32\n",
    "train_datagen_damage=tf.keras.preprocessing.image.ImageDataGenerator(\n",
    "    rescale=1./255,\n",
    "    zoom_range=0.2,\n",
    "    horizontal_flip=True,\n",
    "    validation_split=0.1)\n",
    "\n",
    "validation_datagen_damage=tf.keras.preprocessing.image.ImageDataGenerator(\n",
    "    rescale=1./255,\n",
    "    validation_split=0.1\n",
    ")"
   ]
  },
  {
   "cell_type": "code",
   "execution_count": 3,
   "id": "bf03b8c0",
   "metadata": {},
   "outputs": [
    {
     "name": "stdout",
     "output_type": "stream",
     "text": [
      "Found 571 images belonging to 3 classes.\n",
      "Found 35 images belonging to 3 classes.\n"
     ]
    }
   ],
   "source": [
    "train_damage=\"training_damage\"\n",
    "train_generator_damage=train_datagen_damage.flow_from_directory(\n",
    "    train_damage,\n",
    "    target_size=(IMAGE_SIZE_damage,IMAGE_SIZE_damage),\n",
    "    batch_size=BATCH_SIZE_damage\n",
    "    \n",
    "\n",
    ") \n",
    "test_damage=\"validation_damage\"\n",
    "validation_generator_damage=validation_datagen_damage.flow_from_directory(\n",
    "    test_damage,\n",
    "    target_size=(IMAGE_SIZE_damage,IMAGE_SIZE_damage),\n",
    "    batch_size=BATCH_SIZE_damage\n",
    ") "
   ]
  },
  {
   "cell_type": "code",
   "execution_count": 4,
   "id": "b78f9f76",
   "metadata": {},
   "outputs": [
    {
     "name": "stdout",
     "output_type": "stream",
     "text": [
      "Integer values of classes:\n"
     ]
    },
    {
     "data": {
      "text/plain": [
       "{'high': 0, 'low': 1, 'severe': 2}"
      ]
     },
     "execution_count": 4,
     "metadata": {},
     "output_type": "execute_result"
    }
   ],
   "source": [
    "print(\"Integer values of classes:\")\n",
    "train_generator_damage.class_indices"
   ]
  },
  {
   "cell_type": "markdown",
   "id": "5c411026",
   "metadata": {},
   "source": [
    "# 2.VGG16 model"
   ]
  },
  {
   "cell_type": "code",
   "execution_count": 5,
   "id": "d7d4c910",
   "metadata": {},
   "outputs": [
    {
     "data": {
      "text/plain": [
       "<KerasTensor: shape=(None, 7, 7, 512) dtype=float32 (created by layer 'block5_pool')>"
      ]
     },
     "execution_count": 5,
     "metadata": {},
     "output_type": "execute_result"
    }
   ],
   "source": [
    "IMAGE_SIZE_damage=[224,224]\n",
    "vgg_damage=VGG16(input_shape=IMAGE_SIZE_damage+[3],weights='imagenet',include_top=False)\n",
    "vgg_damage.output"
   ]
  },
  {
   "cell_type": "code",
   "execution_count": 6,
   "id": "4380cf86",
   "metadata": {},
   "outputs": [],
   "source": [
    "for layer_d in vgg_damage.layers:\n",
    "    layer_d.trainable=False"
   ]
  },
  {
   "cell_type": "code",
   "execution_count": 7,
   "id": "da0dbd3e",
   "metadata": {},
   "outputs": [
    {
     "name": "stdout",
     "output_type": "stream",
     "text": [
      "Model: \"model\"\n",
      "_________________________________________________________________\n",
      " Layer (type)                Output Shape              Param #   \n",
      "=================================================================\n",
      " input_1 (InputLayer)        [(None, 224, 224, 3)]     0         \n",
      "                                                                 \n",
      " block1_conv1 (Conv2D)       (None, 224, 224, 64)      1792      \n",
      "                                                                 \n",
      " block1_conv2 (Conv2D)       (None, 224, 224, 64)      36928     \n",
      "                                                                 \n",
      " block1_pool (MaxPooling2D)  (None, 112, 112, 64)      0         \n",
      "                                                                 \n",
      " block2_conv1 (Conv2D)       (None, 112, 112, 128)     73856     \n",
      "                                                                 \n",
      " block2_conv2 (Conv2D)       (None, 112, 112, 128)     147584    \n",
      "                                                                 \n",
      " block2_pool (MaxPooling2D)  (None, 56, 56, 128)       0         \n",
      "                                                                 \n",
      " block3_conv1 (Conv2D)       (None, 56, 56, 256)       295168    \n",
      "                                                                 \n",
      " block3_conv2 (Conv2D)       (None, 56, 56, 256)       590080    \n",
      "                                                                 \n",
      " block3_conv3 (Conv2D)       (None, 56, 56, 256)       590080    \n",
      "                                                                 \n",
      " block3_pool (MaxPooling2D)  (None, 28, 28, 256)       0         \n",
      "                                                                 \n",
      " block4_conv1 (Conv2D)       (None, 28, 28, 512)       1180160   \n",
      "                                                                 \n",
      " block4_conv2 (Conv2D)       (None, 28, 28, 512)       2359808   \n",
      "                                                                 \n",
      " block4_conv3 (Conv2D)       (None, 28, 28, 512)       2359808   \n",
      "                                                                 \n",
      " block4_pool (MaxPooling2D)  (None, 14, 14, 512)       0         \n",
      "                                                                 \n",
      " block5_conv1 (Conv2D)       (None, 14, 14, 512)       2359808   \n",
      "                                                                 \n",
      " block5_conv2 (Conv2D)       (None, 14, 14, 512)       2359808   \n",
      "                                                                 \n",
      " block5_conv3 (Conv2D)       (None, 14, 14, 512)       2359808   \n",
      "                                                                 \n",
      " block5_pool (MaxPooling2D)  (None, 7, 7, 512)         0         \n",
      "                                                                 \n",
      " flatten (Flatten)           (None, 25088)             0         \n",
      "                                                                 \n",
      " dense (Dense)               (None, 3)                 75267     \n",
      "                                                                 \n",
      "=================================================================\n",
      "Total params: 14,789,955\n",
      "Trainable params: 75,267\n",
      "Non-trainable params: 14,714,688\n",
      "_________________________________________________________________\n"
     ]
    }
   ],
   "source": [
    "x_d=Flatten()(vgg_damage.output)\n",
    "prediction_damage=Dense(3,activation='softmax')(x_d)\n",
    "model_damage=Model(inputs=vgg_damage.input,outputs=prediction_damage)\n",
    "model_damage.summary()"
   ]
  },
  {
   "cell_type": "code",
   "execution_count": 9,
   "id": "d31a8ecf",
   "metadata": {},
   "outputs": [],
   "source": [
    "model_damage.compile(loss='categorical_crossentropy', optimizer='adam', metrics=['accuracy'])"
   ]
  },
  {
   "cell_type": "code",
   "execution_count": 10,
   "id": "4c77d6aa",
   "metadata": {},
   "outputs": [],
   "source": [
    "model_damage.save(\"train2.h5\")\n",
    "fn12='log1.csv'\n",
    "logger=tf.keras.callbacks.CSVLogger(fn12,separator=\",\",append=True)"
   ]
  },
  {
   "cell_type": "markdown",
   "id": "22c6d6b0",
   "metadata": {},
   "source": [
    "# 3.Train the model"
   ]
  },
  {
   "cell_type": "code",
   "execution_count": 77,
   "id": "029e3115",
   "metadata": {},
   "outputs": [
    {
     "name": "stdout",
     "output_type": "stream",
     "text": [
      "Epoch 1/7\n",
      "18/18 [==============================] - 107s 6s/step - loss: 1.1776 - accuracy: 0.5989 - val_loss: 1.3002 - val_accuracy: 0.5714\n",
      "Epoch 2/7\n",
      "18/18 [==============================] - 114s 6s/step - loss: 0.6921 - accuracy: 0.7250 - val_loss: 0.8449 - val_accuracy: 0.5714\n",
      "Epoch 3/7\n",
      "18/18 [==============================] - 111s 6s/step - loss: 0.4477 - accuracy: 0.8179 - val_loss: 0.8123 - val_accuracy: 0.6000\n",
      "Epoch 4/7\n",
      "18/18 [==============================] - 115s 6s/step - loss: 0.3596 - accuracy: 0.8739 - val_loss: 0.8032 - val_accuracy: 0.6571\n",
      "Epoch 5/7\n",
      "18/18 [==============================] - 116s 6s/step - loss: 0.2686 - accuracy: 0.9089 - val_loss: 0.8715 - val_accuracy: 0.6286\n",
      "Epoch 6/7\n",
      "18/18 [==============================] - 118s 7s/step - loss: 0.2571 - accuracy: 0.9159 - val_loss: 0.7941 - val_accuracy: 0.6857\n",
      "Epoch 7/7\n",
      "18/18 [==============================] - 119s 7s/step - loss: 0.2546 - accuracy: 0.9089 - val_loss: 1.2429 - val_accuracy: 0.6286\n"
     ]
    }
   ],
   "source": [
    "epoch_d=7\n",
    "history_damage=model_damage.fit(train_generator_damage,\n",
    "                  steps_per_epoch=len(train_generator_damage),\n",
    "                  epochs=epoch_d,\n",
    "                  callbacks=[logger],\n",
    "                  validation_data=validation_generator_damage,\n",
    "                  validation_steps=len(validation_generator_damage)\n",
    "                 )"
   ]
  }
 ],
 "metadata": {
  "kernelspec": {
   "display_name": "Python 3 (ipykernel)",
   "language": "python",
   "name": "python3"
  },
  "language_info": {
   "codemirror_mode": {
    "name": "ipython",
    "version": 3
   },
   "file_extension": ".py",
   "mimetype": "text/x-python",
   "name": "python",
   "nbconvert_exporter": "python",
   "pygments_lexer": "ipython3",
   "version": "3.9.0"
  }
 },
 "nbformat": 4,
 "nbformat_minor": 5
}
